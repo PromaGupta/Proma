{
 "cells": [
  {
   "cell_type": "markdown",
   "id": "50061a65",
   "metadata": {},
   "source": [
    "### Equilibrium Matrix in Markov Chain using Python in Stock Market"
   ]
  },
  {
   "cell_type": "code",
   "execution_count": 5,
   "id": "44dfaa48",
   "metadata": {},
   "outputs": [
    {
     "name": "stdout",
     "output_type": "stream",
     "text": [
      "Collecting nsepython\n",
      "  Downloading nsepython-0.0.972-py3-none-any.whl (21 kB)\n",
      "Requirement already satisfied: requests in c:\\programdata\\anaconda3\\lib\\site-packages (from nsepython) (2.25.1)\n",
      "Requirement already satisfied: scipy in c:\\programdata\\anaconda3\\lib\\site-packages (from nsepython) (1.6.2)\n",
      "Requirement already satisfied: pandas in c:\\programdata\\anaconda3\\lib\\site-packages (from nsepython) (1.2.4)\n",
      "Requirement already satisfied: python-dateutil>=2.7.3 in c:\\programdata\\anaconda3\\lib\\site-packages (from pandas->nsepython) (2.8.1)\n",
      "Requirement already satisfied: pytz>=2017.3 in c:\\programdata\\anaconda3\\lib\\site-packages (from pandas->nsepython) (2021.1)\n",
      "Requirement already satisfied: numpy>=1.16.5 in c:\\programdata\\anaconda3\\lib\\site-packages (from pandas->nsepython) (1.20.1)\n",
      "Requirement already satisfied: six>=1.5 in c:\\programdata\\anaconda3\\lib\\site-packages (from python-dateutil>=2.7.3->pandas->nsepython) (1.15.0)\n",
      "Requirement already satisfied: certifi>=2017.4.17 in c:\\programdata\\anaconda3\\lib\\site-packages (from requests->nsepython) (2020.12.5)\n",
      "Requirement already satisfied: urllib3<1.27,>=1.21.1 in c:\\programdata\\anaconda3\\lib\\site-packages (from requests->nsepython) (1.26.4)\n",
      "Requirement already satisfied: chardet<5,>=3.0.2 in c:\\programdata\\anaconda3\\lib\\site-packages (from requests->nsepython) (4.0.0)\n",
      "Requirement already satisfied: idna<3,>=2.5 in c:\\programdata\\anaconda3\\lib\\site-packages (from requests->nsepython) (2.10)\n",
      "Installing collected packages: nsepython\n",
      "Successfully installed nsepython-0.0.972\n"
     ]
    }
   ],
   "source": [
    "!pip install nsepython"
   ]
  },
  {
   "cell_type": "code",
   "execution_count": 7,
   "id": "35e898d9",
   "metadata": {},
   "outputs": [],
   "source": [
    "from nsepython import *\n",
    "import datetime"
   ]
  },
  {
   "cell_type": "markdown",
   "id": "8a371d85",
   "metadata": {},
   "source": [
    "# Transition Matrix"
   ]
  },
  {
   "cell_type": "code",
   "execution_count": 8,
   "id": "c7bc7e65",
   "metadata": {},
   "outputs": [
    {
     "name": "stdout",
     "output_type": "stream",
     "text": [
      "state          Downside    Upside\n",
      "priorstate                       \n",
      "Consolidation  0.000000  1.000000\n",
      "Downside       0.650367  0.349633\n",
      "Upside         0.543396  0.456604\n"
     ]
    }
   ],
   "source": [
    "symbol = \"NIFTY 50\"\n",
    "days = 1000\n",
    "end_date = datetime.datetime.now().strftime(\"%d-%b-%Y\")\n",
    "end_date = str(end_date)\n",
    "\n",
    "start_date = (datetime.datetime.now()- datetime.timedelta(days=days)).strftime(\"%d-%b-%Y\")\n",
    "start_date = str(start_date)\n",
    "\n",
    "df=index_history(\"NIFTY 50\",start_date,end_date)\n",
    "\n",
    "df[\"state\"]=df[\"CLOSE\"].astype(float).pct_change()\n",
    "df['state']=df['state'].apply(lambda x: 'Upside' if (x > 0.001) else ('Downside' if (x<=0.001) else 'Consolidation'))\n",
    "\n",
    "df['priorstate']=df['state'].shift(1)\n",
    "\n",
    "states = df [['priorstate','state']].dropna()\n",
    "states_matrix = states.groupby(['priorstate','state']).size().unstack().fillna(0)\n",
    "\n",
    "transition_matrix= states_matrix.apply(lambda x: x/float(x.sum()),axis=1)\n",
    "print(transition_matrix)"
   ]
  },
  {
   "cell_type": "markdown",
   "id": "e61fb573",
   "metadata": {},
   "source": [
    "## Forecasting Futures Probabilities of States using Python"
   ]
  },
  {
   "cell_type": "markdown",
   "id": "a2b4a545",
   "metadata": {},
   "source": [
    "Let’s consider time as t. Now, We will see observe other probability matrices.“Transition Matrix” is the probability matrix at t=0. It shows the probability at t=0. However, we will build the Markov Chain by multiplying this transition matrix by itself to obtain the probability matrix in t=1 which would allow us to make one-day forecasts."
   ]
  },
  {
   "cell_type": "code",
   "execution_count": 10,
   "id": "6ea640e6",
   "metadata": {},
   "outputs": [
    {
     "name": "stdout",
     "output_type": "stream",
     "text": [
      "state       Downside    Upside\n",
      "priorstate                    \n",
      "Downside    0.598945  0.401055\n",
      "Upside      0.513514  0.486486\n"
     ]
    }
   ],
   "source": [
    "symbol = \"NIFTY 50\"\n",
    "days = 1000\n",
    "end_date = datetime.datetime.now().strftime(\"%d-%b-%Y\")\n",
    "end_date = str(end_date)\n",
    "\n",
    "start_date = (datetime.datetime.now()- datetime.timedelta(days=days)).strftime(\"%d-%b-%Y\")\n",
    "start_date = str(start_date)\n",
    "\n",
    "df=index_history(\"NIFTY 50\",start_date,end_date)\n",
    "\n",
    "df[\"state\"]=df[\"CLOSE\"].astype(float).pct_change()\n",
    "df['state']=df['state'].apply(lambda x: 'Upside' if (x > 0) else 'Downside' )\n",
    "\n",
    "df['priorstate']=df['state'].shift(1)\n",
    "\n",
    "states = df [['priorstate','state']].dropna()\n",
    "states_matrix = states.groupby(['priorstate','state']).size().unstack().fillna(0)\n",
    "\n",
    "transition_matrix= states_matrix.apply(lambda x: x/float(x.sum()),axis=1)\n",
    "print(transition_matrix)"
   ]
  },
  {
   "cell_type": "code",
   "execution_count": 11,
   "id": "094fe101",
   "metadata": {},
   "outputs": [
    {
     "data": {
      "text/html": [
       "<div>\n",
       "<style scoped>\n",
       "    .dataframe tbody tr th:only-of-type {\n",
       "        vertical-align: middle;\n",
       "    }\n",
       "\n",
       "    .dataframe tbody tr th {\n",
       "        vertical-align: top;\n",
       "    }\n",
       "\n",
       "    .dataframe thead th {\n",
       "        text-align: right;\n",
       "    }\n",
       "</style>\n",
       "<table border=\"1\" class=\"dataframe\">\n",
       "  <thead>\n",
       "    <tr style=\"text-align: right;\">\n",
       "      <th>state</th>\n",
       "      <th>Downside</th>\n",
       "      <th>Upside</th>\n",
       "    </tr>\n",
       "    <tr>\n",
       "      <th>priorstate</th>\n",
       "      <th></th>\n",
       "      <th></th>\n",
       "    </tr>\n",
       "  </thead>\n",
       "  <tbody>\n",
       "    <tr>\n",
       "      <th>Downside</th>\n",
       "      <td>0.564682</td>\n",
       "      <td>0.435318</td>\n",
       "    </tr>\n",
       "    <tr>\n",
       "      <th>Upside</th>\n",
       "      <td>0.557384</td>\n",
       "      <td>0.442616</td>\n",
       "    </tr>\n",
       "  </tbody>\n",
       "</table>\n",
       "</div>"
      ],
      "text/plain": [
       "state       Downside    Upside\n",
       "priorstate                    \n",
       "Downside    0.564682  0.435318\n",
       "Upside      0.557384  0.442616"
      ]
     },
     "execution_count": 11,
     "metadata": {},
     "output_type": "execute_result"
    }
   ],
   "source": [
    "t_0 = transition_matrix.copy()\n",
    "t_1 =t_0.dot(t_0)\n",
    "t_1"
   ]
  },
  {
   "cell_type": "markdown",
   "id": "958b0bb2",
   "metadata": {},
   "source": [
    "Now, We need to extend the Markov Chain similarly.If we continue multiplying the transition matrix that we have obtained in t=1 by the original transition matrix in t0, we obtain the probabilities in time t=2. Let’s find the transition matrix at t=2 and t=3 and so on in a similar manner."
   ]
  },
  {
   "cell_type": "code",
   "execution_count": 12,
   "id": "2b529e97",
   "metadata": {},
   "outputs": [
    {
     "data": {
      "text/html": [
       "<div>\n",
       "<style scoped>\n",
       "    .dataframe tbody tr th:only-of-type {\n",
       "        vertical-align: middle;\n",
       "    }\n",
       "\n",
       "    .dataframe tbody tr th {\n",
       "        vertical-align: top;\n",
       "    }\n",
       "\n",
       "    .dataframe thead th {\n",
       "        text-align: right;\n",
       "    }\n",
       "</style>\n",
       "<table border=\"1\" class=\"dataframe\">\n",
       "  <thead>\n",
       "    <tr style=\"text-align: right;\">\n",
       "      <th>state</th>\n",
       "      <th>Downside</th>\n",
       "      <th>Upside</th>\n",
       "    </tr>\n",
       "    <tr>\n",
       "      <th>priorstate</th>\n",
       "      <th></th>\n",
       "      <th></th>\n",
       "    </tr>\n",
       "  </thead>\n",
       "  <tbody>\n",
       "    <tr>\n",
       "      <th>Downside</th>\n",
       "      <td>0.561755</td>\n",
       "      <td>0.438245</td>\n",
       "    </tr>\n",
       "    <tr>\n",
       "      <th>Upside</th>\n",
       "      <td>0.561131</td>\n",
       "      <td>0.438869</td>\n",
       "    </tr>\n",
       "  </tbody>\n",
       "</table>\n",
       "</div>"
      ],
      "text/plain": [
       "state       Downside    Upside\n",
       "priorstate                    \n",
       "Downside    0.561755  0.438245\n",
       "Upside      0.561131  0.438869"
      ]
     },
     "execution_count": 12,
     "metadata": {},
     "output_type": "execute_result"
    }
   ],
   "source": [
    "t_2 = t_0.dot(t_1)\n",
    "t_2"
   ]
  },
  {
   "cell_type": "code",
   "execution_count": 13,
   "id": "422d407d",
   "metadata": {},
   "outputs": [
    {
     "data": {
      "text/html": [
       "<div>\n",
       "<style scoped>\n",
       "    .dataframe tbody tr th:only-of-type {\n",
       "        vertical-align: middle;\n",
       "    }\n",
       "\n",
       "    .dataframe tbody tr th {\n",
       "        vertical-align: top;\n",
       "    }\n",
       "\n",
       "    .dataframe thead th {\n",
       "        text-align: right;\n",
       "    }\n",
       "</style>\n",
       "<table border=\"1\" class=\"dataframe\">\n",
       "  <thead>\n",
       "    <tr style=\"text-align: right;\">\n",
       "      <th>state</th>\n",
       "      <th>Downside</th>\n",
       "      <th>Upside</th>\n",
       "    </tr>\n",
       "    <tr>\n",
       "      <th>priorstate</th>\n",
       "      <th></th>\n",
       "      <th></th>\n",
       "    </tr>\n",
       "  </thead>\n",
       "  <tbody>\n",
       "    <tr>\n",
       "      <th>Downside</th>\n",
       "      <td>0.561505</td>\n",
       "      <td>0.438495</td>\n",
       "    </tr>\n",
       "    <tr>\n",
       "      <th>Upside</th>\n",
       "      <td>0.561452</td>\n",
       "      <td>0.438548</td>\n",
       "    </tr>\n",
       "  </tbody>\n",
       "</table>\n",
       "</div>"
      ],
      "text/plain": [
       "state       Downside    Upside\n",
       "priorstate                    \n",
       "Downside    0.561505  0.438495\n",
       "Upside      0.561452  0.438548"
      ]
     },
     "execution_count": 13,
     "metadata": {},
     "output_type": "execute_result"
    }
   ],
   "source": [
    "t_3 = t_0.dot(t_2)\n",
    "t_3"
   ]
  },
  {
   "cell_type": "markdown",
   "id": "6f1dfb6c",
   "metadata": {},
   "source": [
    "## Equilibrium Matrix using Python"
   ]
  },
  {
   "cell_type": "code",
   "execution_count": 14,
   "id": "bd884cfe",
   "metadata": {},
   "outputs": [
    {
     "name": "stdout",
     "output_type": "stream",
     "text": [
      "Equilibrium Matrix Number: 17\n",
      "state       Downside    Upside\n",
      "priorstate                    \n",
      "Downside    0.561481  0.438519\n",
      "Upside      0.561481  0.438519\n"
     ]
    }
   ],
   "source": [
    "## Equilibrium Matrix using Python\n",
    "\n",
    "t_0 = transition_matrix.copy()\n",
    "\n",
    "t_m = t_0.copy()\n",
    "t_n = t_0.dot(t_0)\n",
    "\n",
    "i = 1\n",
    "while(not(t_m.equals(t_n))):\n",
    "    i += 1\n",
    "    t_m = t_n.copy()\n",
    "    t_n = t_n.dot(t_0)\n",
    "\n",
    "print(\"Equilibrium Matrix Number: \" + str(i))\n",
    "print(t_n)"
   ]
  },
  {
   "cell_type": "markdown",
   "id": "559c6ece",
   "metadata": {},
   "source": [
    "The equilibrium Matrix is a stationary state. So, As per the theory of the Markov Chain, This figure will stay the same for foreseeable data points"
   ]
  },
  {
   "cell_type": "code",
   "execution_count": 15,
   "id": "6ad33d53",
   "metadata": {},
   "outputs": [
    {
     "name": "stdout",
     "output_type": "stream",
     "text": [
      "Equilibrium Matrix Number: 15\n",
      "state       Downside    Upside\n",
      "priorstate                    \n",
      "Downside    0.538278  0.461722\n",
      "Upside      0.538278  0.461722\n"
     ]
    }
   ],
   "source": [
    "##Random Walk\n",
    "\n",
    "symbol = \"NIFTY 50\"\n",
    "days = 9209\n",
    "end_date = datetime.datetime.now().strftime(\"%d-%b-%Y\")\n",
    "end_date = str(end_date)\n",
    "\n",
    "start_date = (datetime.datetime.now()- datetime.timedelta(days=days)).strftime(\"%d-%b-%Y\")\n",
    "start_date = str(start_date)\n",
    "\n",
    "df=index_history(\"NIFTY 50\",start_date,end_date)\n",
    "\n",
    "df[\"state\"]=df[\"CLOSE\"].astype(float).pct_change()\n",
    "df['state']=df['state'].apply(lambda x: 'Upside' if (x > 0) else 'Downside' )\n",
    "\n",
    "df['priorstate']=df['state'].shift(1)\n",
    "\n",
    "states = df [['priorstate','state']].dropna()\n",
    "states_matrix = states.groupby(['priorstate','state']).size().unstack().fillna(0)\n",
    "\n",
    "transition_matrix= states_matrix.apply(lambda x: x/float(x.sum()),axis=1)\n",
    "t_0 = transition_matrix.copy()\n",
    "\n",
    "t_m = t_0.copy()\n",
    "t_n = t_0.dot(t_0)\n",
    "\n",
    "i = 1\n",
    "while(not(t_m.equals(t_n))):\n",
    "    i += 1\n",
    "    t_m = t_n.copy()\n",
    "    t_n = t_n.dot(t_0)\n",
    "\n",
    "print(\"Equilibrium Matrix Number: \" + str(i))\n",
    "print(t_n)"
   ]
  },
  {
   "cell_type": "markdown",
   "id": "34617942",
   "metadata": {},
   "source": [
    "So, t = 15, We get our equilibrium matrix. \n",
    "\n",
    "Anyways, the number of the matrix where we get the equilibrium does not matter much. What matters is the values. We can see the values are really close!\n",
    "\n",
    "Interpreting, \n",
    "\n",
    "P(priorstate=\"Downside\"/state=\"Downside) i.e. If We had a Downside day today, Tomorrow there is 53.6083% probability of having a Downside day.\n",
    "\n",
    "Similarly, \n",
    "\n",
    "If We had a Downside day today, Tomorrow there is 46.17% probability of having an Upside day."
   ]
  },
  {
   "cell_type": "markdown",
   "id": "78bdd421",
   "metadata": {},
   "source": []
  },
  {
   "cell_type": "code",
   "execution_count": null,
   "id": "da714bc9",
   "metadata": {},
   "outputs": [],
   "source": []
  }
 ],
 "metadata": {
  "kernelspec": {
   "display_name": "Python 3",
   "language": "python",
   "name": "python3"
  },
  "language_info": {
   "codemirror_mode": {
    "name": "ipython",
    "version": 3
   },
   "file_extension": ".py",
   "mimetype": "text/x-python",
   "name": "python",
   "nbconvert_exporter": "python",
   "pygments_lexer": "ipython3",
   "version": "3.8.8"
  }
 },
 "nbformat": 4,
 "nbformat_minor": 5
}
